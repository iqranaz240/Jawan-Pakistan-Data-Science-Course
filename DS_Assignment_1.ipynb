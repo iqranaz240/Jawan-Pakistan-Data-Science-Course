{
  "nbformat": 4,
  "nbformat_minor": 0,
  "metadata": {
    "colab": {
      "name": "DS Assignment#1",
      "provenance": []
    },
    "kernelspec": {
      "name": "python3",
      "display_name": "Python 3"
    },
    "language_info": {
      "name": "python"
    }
  },
  "cells": [
    {
      "cell_type": "markdown",
      "source": [
        "# JAWAN PAKISTAN\n",
        "## Data Science Course\n",
        "# Assignment # 1\n",
        "\n",
        "\n"
      ],
      "metadata": {
        "id": "jx7Q1Yq6GnsJ"
      }
    },
    {
      "cell_type": "markdown",
      "source": [
        "1. Write a Python program to print the following string in a specific format."
      ],
      "metadata": {
        "id": "DxjfbFdeD2av"
      }
    },
    {
      "cell_type": "code",
      "execution_count": 1,
      "metadata": {
        "colab": {
          "base_uri": "https://localhost:8080/"
        },
        "id": "DFnE83D5DtPn",
        "outputId": "0384658f-cb7f-4631-b96d-b270d2f565ad"
      },
      "outputs": [
        {
          "output_type": "stream",
          "name": "stdout",
          "text": [
            "Twinkle, twinkle, little star,\n",
            "         How I wonder what you are!\n",
            "                 Up above the world so high,\n",
            "                 Like a diamond in the sky.\n",
            "Twinkle, twinkle, little star,\n",
            "         How I wonder what you are\n"
          ]
        }
      ],
      "source": [
        "print(\"Twinkle, twinkle, little star,\")\n",
        "print(\"         How I wonder what you are!\")\n",
        "print(\"                 Up above the world so high,\")\n",
        "print(\"                 Like a diamond in the sky.\")\n",
        "print(\"Twinkle, twinkle, little star,\")\n",
        "print(\"         How I wonder what you are\")"
      ]
    },
    {
      "cell_type": "markdown",
      "source": [
        "2. Write a Python program to get the Python version you are using."
      ],
      "metadata": {
        "id": "fb9_pDHzEb9o"
      }
    },
    {
      "cell_type": "code",
      "source": [
        "import sys\n",
        "print (\"Python Version :\",sys.version)"
      ],
      "metadata": {
        "colab": {
          "base_uri": "https://localhost:8080/"
        },
        "id": "LVo5gbjGEq59",
        "outputId": "b3ecf56c-347b-4080-daba-12e4b6ef5484"
      },
      "execution_count": 2,
      "outputs": [
        {
          "output_type": "stream",
          "name": "stdout",
          "text": [
            "Python Version : 3.7.12 (default, Sep 10 2021, 00:21:48) \n",
            "[GCC 7.5.0]\n"
          ]
        }
      ]
    },
    {
      "cell_type": "markdown",
      "source": [
        "3. Write a Python program to display current date and time."
      ],
      "metadata": {
        "id": "-D4DjJpTE34_"
      }
    },
    {
      "cell_type": "code",
      "source": [
        "import datetime\n",
        "now = datetime.datetime.now()\n",
        "print (\"Current date and time : \", now.strftime(\"%Y-%m-%d %H:%M:%S\"))"
      ],
      "metadata": {
        "colab": {
          "base_uri": "https://localhost:8080/"
        },
        "id": "Cb9Q-ejDFDR7",
        "outputId": "a788fd92-9920-4f29-faea-f57e38996569"
      },
      "execution_count": 3,
      "outputs": [
        {
          "output_type": "stream",
          "name": "stdout",
          "text": [
            "Current date and time :  2021-12-28 17:26:59\n"
          ]
        }
      ]
    },
    {
      "cell_type": "markdown",
      "source": [
        "4. Write a Python program which accepts the radius of a circle from user and compute the area."
      ],
      "metadata": {
        "id": "qrPdEOl7FMU_"
      }
    },
    {
      "cell_type": "code",
      "source": [
        "radius = int(input(\"Enter the radius of the circle: \"))\n",
        "area = 3.14159 * radius * radius\n",
        "print(\"The area of the circle is \" + str(area) + \" sq. unit\")"
      ],
      "metadata": {
        "colab": {
          "base_uri": "https://localhost:8080/"
        },
        "id": "j4lnZbhPFap_",
        "outputId": "d1758467-f959-4ffe-b2cb-70c38b82eca2"
      },
      "execution_count": 4,
      "outputs": [
        {
          "output_type": "stream",
          "name": "stdout",
          "text": [
            "Enter the radius of the circle: 3\n",
            "The area of the circle is 28.274309999999996 sq. unit\n"
          ]
        }
      ]
    },
    {
      "cell_type": "markdown",
      "source": [
        "5. Write a computer program which accepts the user's first and last name as input and print them in reverse order with space between them."
      ],
      "metadata": {
        "id": "m65MdkhvFoon"
      }
    },
    {
      "cell_type": "code",
      "source": [
        "firstName = input(\"Enter your first name: \")\n",
        "lastName = input(\"Enter your last name: \")\n",
        "print(lastName + \" \" + firstName)"
      ],
      "metadata": {
        "colab": {
          "base_uri": "https://localhost:8080/"
        },
        "id": "hfZ2Cl0xF5Hu",
        "outputId": "91307637-36dc-42c2-9a1b-6f82b2f5d7f1"
      },
      "execution_count": 5,
      "outputs": [
        {
          "output_type": "stream",
          "name": "stdout",
          "text": [
            "Enter your first name: Iqra\n",
            "Enter your last name: Naz\n",
            "Naz Iqra\n"
          ]
        }
      ]
    },
    {
      "cell_type": "markdown",
      "source": [
        "6. Write a Python program which takes two inputs from user and print them addition."
      ],
      "metadata": {
        "id": "eBaP9mwtGD8y"
      }
    },
    {
      "cell_type": "code",
      "source": [
        "num1 = int(input(\"Enter first number: \"))\n",
        "num2 = int(input(\"Enter second number: \"))\n",
        "print(\"Sum of \" + str(num1) + \" and \" + str(num2) + \" is \" + str(num1+num2))"
      ],
      "metadata": {
        "colab": {
          "base_uri": "https://localhost:8080/"
        },
        "id": "mrSCP_NyGTh6",
        "outputId": "6ff533b1-c167-4385-a036-81376d4bc56b"
      },
      "execution_count": 6,
      "outputs": [
        {
          "output_type": "stream",
          "name": "stdout",
          "text": [
            "Enter first number: 30\n",
            "Enter second number: 20\n",
            "Sum of 30 and 20 is 50\n"
          ]
        }
      ]
    }
  ]
}